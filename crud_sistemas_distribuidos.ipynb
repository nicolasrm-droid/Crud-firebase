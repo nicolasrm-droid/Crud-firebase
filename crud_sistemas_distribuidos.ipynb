{
  "nbformat": 4,
  "nbformat_minor": 0,
  "metadata": {
    "colab": {
      "private_outputs": true,
      "provenance": []
    },
    "kernelspec": {
      "name": "python3",
      "display_name": "Python 3"
    },
    "language_info": {
      "name": "python"
    }
  },
  "cells": [
    {
      "cell_type": "code",
      "execution_count": null,
      "metadata": {
        "id": "LSMSH0g4YWBI"
      },
      "outputs": [],
      "source": [
        "!pip install python-firebase"
      ]
    },
    {
      "cell_type": "code",
      "source": [
        "!pip install python_jwt"
      ],
      "metadata": {
        "id": "2wc8gHE6cTj8"
      },
      "execution_count": null,
      "outputs": []
    },
    {
      "cell_type": "code",
      "source": [
        "pip install git+https://github.com/ozgur/python-firebase\n"
      ],
      "metadata": {
        "id": "QBIcPL5JfSZz"
      },
      "execution_count": null,
      "outputs": []
    },
    {
      "cell_type": "code",
      "source": [
        "from firebase import firebase"
      ],
      "metadata": {
        "id": "d_hP8QdYbbqR"
      },
      "execution_count": null,
      "outputs": []
    },
    {
      "cell_type": "code",
      "source": [
        "firebase = firebase.FirebaseApplication(\"https://sistemasdistribuidos-54ccb-default-rtdb.firebaseio.com/\", None)"
      ],
      "metadata": {
        "id": "jI5f7RkVbr_I"
      },
      "execution_count": null,
      "outputs": []
    },
    {
      "cell_type": "code",
      "source": [
        "datos = {\n",
        "    'id':\"10\" ,\n",
        "    'Nombre': \"david\",\n",
        "    'Apellido': \"manzano\",\n",
        "    'Edad': \"23\"\n",
        "\n",
        "}"
      ],
      "metadata": {
        "id": "07efchoIcVKh"
      },
      "execution_count": null,
      "outputs": []
    },
    {
      "cell_type": "code",
      "source": [
        "# añadir en la base de datos \n",
        "añadir=firebase.post('/crud_firebase/datos_post',datos)\n",
        "print(añadir)"
      ],
      "metadata": {
        "id": "JW-wPpImeqWP"
      },
      "execution_count": null,
      "outputs": []
    },
    {
      "cell_type": "code",
      "source": [
        "#lectura de la base de datos\n",
        "lectura = firebase.get('/crud_firebase/datos_post','')\n",
        "print(lectura)\n"
      ],
      "metadata": {
        "id": "D8E02cP9gQ4i"
      },
      "execution_count": null,
      "outputs": []
    },
    {
      "cell_type": "code",
      "source": [
        "#editar registros \n",
        "firebase.put('/crud_firebase/datos_post/-NG5UwvJro6PU1n_51Zw','id','2')"
      ],
      "metadata": {
        "id": "UMrt5lUAgxC4"
      },
      "execution_count": null,
      "outputs": []
    },
    {
      "cell_type": "code",
      "source": [
        "#eliminar registros \n",
        "firebase.delete('/crud_firebase/datos_post,','-NG5UwvJro6PU1n_51Zw')\n",
        "print('Se elimino el archivo')"
      ],
      "metadata": {
        "id": "5UXH7SCygxJw"
      },
      "execution_count": null,
      "outputs": []
    }
  ]
}